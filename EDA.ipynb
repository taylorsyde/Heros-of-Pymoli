{
 "cells": [
  {
   "cell_type": "code",
   "execution_count": 1,
   "id": "48512df5",
   "metadata": {},
   "outputs": [],
   "source": [
    "# Import Dependancies\n",
    "import pandas as pd\n",
    "import numpy as np\n",
    "import matplotlib.pyplot as plt"
   ]
  },
  {
   "cell_type": "code",
   "execution_count": 2,
   "id": "b6d710b0",
   "metadata": {},
   "outputs": [
    {
     "data": {
      "text/html": [
       "<div>\n",
       "<style scoped>\n",
       "    .dataframe tbody tr th:only-of-type {\n",
       "        vertical-align: middle;\n",
       "    }\n",
       "\n",
       "    .dataframe tbody tr th {\n",
       "        vertical-align: top;\n",
       "    }\n",
       "\n",
       "    .dataframe thead th {\n",
       "        text-align: right;\n",
       "    }\n",
       "</style>\n",
       "<table border=\"1\" class=\"dataframe\">\n",
       "  <thead>\n",
       "    <tr style=\"text-align: right;\">\n",
       "      <th></th>\n",
       "      <th>Purchase ID</th>\n",
       "      <th>SN</th>\n",
       "      <th>Age</th>\n",
       "      <th>Gender</th>\n",
       "      <th>Item ID</th>\n",
       "      <th>Item Name</th>\n",
       "      <th>Price</th>\n",
       "    </tr>\n",
       "  </thead>\n",
       "  <tbody>\n",
       "    <tr>\n",
       "      <th>0</th>\n",
       "      <td>0</td>\n",
       "      <td>Lisim78</td>\n",
       "      <td>20</td>\n",
       "      <td>Male</td>\n",
       "      <td>108</td>\n",
       "      <td>Extraction, Quickblade Of Trembling Hands</td>\n",
       "      <td>3.53</td>\n",
       "    </tr>\n",
       "    <tr>\n",
       "      <th>1</th>\n",
       "      <td>1</td>\n",
       "      <td>Lisovynya38</td>\n",
       "      <td>40</td>\n",
       "      <td>Male</td>\n",
       "      <td>143</td>\n",
       "      <td>Frenzied Scimitar</td>\n",
       "      <td>1.56</td>\n",
       "    </tr>\n",
       "    <tr>\n",
       "      <th>2</th>\n",
       "      <td>2</td>\n",
       "      <td>Ithergue48</td>\n",
       "      <td>24</td>\n",
       "      <td>Male</td>\n",
       "      <td>92</td>\n",
       "      <td>Final Critic</td>\n",
       "      <td>4.88</td>\n",
       "    </tr>\n",
       "    <tr>\n",
       "      <th>3</th>\n",
       "      <td>3</td>\n",
       "      <td>Chamassasya86</td>\n",
       "      <td>24</td>\n",
       "      <td>Male</td>\n",
       "      <td>100</td>\n",
       "      <td>Blindscythe</td>\n",
       "      <td>3.27</td>\n",
       "    </tr>\n",
       "    <tr>\n",
       "      <th>4</th>\n",
       "      <td>4</td>\n",
       "      <td>Iskosia90</td>\n",
       "      <td>23</td>\n",
       "      <td>Male</td>\n",
       "      <td>131</td>\n",
       "      <td>Fury</td>\n",
       "      <td>1.44</td>\n",
       "    </tr>\n",
       "  </tbody>\n",
       "</table>\n",
       "</div>"
      ],
      "text/plain": [
       "   Purchase ID             SN  Age Gender  Item ID  \\\n",
       "0            0        Lisim78   20   Male      108   \n",
       "1            1    Lisovynya38   40   Male      143   \n",
       "2            2     Ithergue48   24   Male       92   \n",
       "3            3  Chamassasya86   24   Male      100   \n",
       "4            4      Iskosia90   23   Male      131   \n",
       "\n",
       "                                   Item Name  Price  \n",
       "0  Extraction, Quickblade Of Trembling Hands   3.53  \n",
       "1                          Frenzied Scimitar   1.56  \n",
       "2                               Final Critic   4.88  \n",
       "3                                Blindscythe   3.27  \n",
       "4                                       Fury   1.44  "
      ]
     },
     "execution_count": 2,
     "metadata": {},
     "output_type": "execute_result"
    }
   ],
   "source": [
    "# pull in data\n",
    "data_df = pd.read_csv('Resources/purchase_data.csv')\n",
    "data_df.head()"
   ]
  },
  {
   "cell_type": "code",
   "execution_count": 3,
   "id": "6173a66e",
   "metadata": {},
   "outputs": [
    {
     "name": "stdout",
     "output_type": "stream",
     "text": [
      "(780, 7)\n",
      "<class 'pandas.core.frame.DataFrame'>\n",
      "RangeIndex: 780 entries, 0 to 779\n",
      "Data columns (total 7 columns):\n",
      " #   Column       Non-Null Count  Dtype  \n",
      "---  ------       --------------  -----  \n",
      " 0   Purchase ID  780 non-null    int64  \n",
      " 1   SN           780 non-null    object \n",
      " 2   Age          780 non-null    int64  \n",
      " 3   Gender       780 non-null    object \n",
      " 4   Item ID      780 non-null    int64  \n",
      " 5   Item Name    780 non-null    object \n",
      " 6   Price        780 non-null    float64\n",
      "dtypes: float64(1), int64(3), object(3)\n",
      "memory usage: 42.8+ KB\n",
      "None\n",
      "Index(['Purchase ID', 'SN', 'Age', 'Gender', 'Item ID', 'Item Name', 'Price'], dtype='object')\n"
     ]
    }
   ],
   "source": [
    "#cleaning data\n",
    "print(data_df.shape)\n",
    "print(data_df.info())\n",
    "print(data_df.columns)"
   ]
  },
  {
   "cell_type": "code",
   "execution_count": 4,
   "id": "3ea6d2f7",
   "metadata": {},
   "outputs": [
    {
     "name": "stdout",
     "output_type": "stream",
     "text": [
      "(780, 7)\n"
     ]
    }
   ],
   "source": [
    "# drop any null values\n",
    "data_df = data_df.dropna()\n",
    "print(data_df.shape)"
   ]
  },
  {
   "cell_type": "code",
   "execution_count": 5,
   "id": "c53aef5f",
   "metadata": {},
   "outputs": [
    {
     "data": {
      "text/plain": [
       "array([False])"
      ]
     },
     "execution_count": 5,
     "metadata": {},
     "output_type": "execute_result"
    }
   ],
   "source": [
    "#verfiy if any of the records are duplicated\n",
    "data_df.duplicated().unique()"
   ]
  },
  {
   "cell_type": "markdown",
   "id": "1a4763f3",
   "metadata": {},
   "source": [
    "### How many players are there?"
   ]
  },
  {
   "cell_type": "code",
   "execution_count": 6,
   "id": "230ad749",
   "metadata": {},
   "outputs": [
    {
     "name": "stdout",
     "output_type": "stream",
     "text": [
      "There are 576 unique players in this data set.\n"
     ]
    }
   ],
   "source": [
    "player_count = len(data_df['SN'].unique())\n",
    "print(f'There are {player_count} unique players in this data set.')"
   ]
  },
  {
   "cell_type": "markdown",
   "id": "67e270c0",
   "metadata": {},
   "source": [
    "### Purchase Analysis (Total)"
   ]
  },
  {
   "cell_type": "code",
   "execution_count": 7,
   "id": "ee27c374",
   "metadata": {},
   "outputs": [
    {
     "name": "stdout",
     "output_type": "stream",
     "text": [
      "There were 179 unique items purchased.\n",
      "The average  price was 3.050987179487176.\n",
      "There are 780 purchases.\n",
      "Total Revenue: $2379.77\n"
     ]
    }
   ],
   "source": [
    "item_count = len(data_df['Item Name'].unique())\n",
    "avg_price = data_df['Price'].mean()\n",
    "total_buys = data_df.shape[0]\n",
    "total_rev = data_df['Price'].sum()\n",
    "\n",
    "print(f'There were {item_count} unique items purchased.')\n",
    "print(f'The average  price was {avg_price}.')\n",
    "print(f'There are {total_buys} purchases.')\n",
    "print(f'Total Revenue: ${total_rev}')"
   ]
  },
  {
   "cell_type": "markdown",
   "id": "8713ab2c",
   "metadata": {},
   "source": [
    "### Gender Demographics"
   ]
  },
  {
   "cell_type": "code",
   "execution_count": 41,
   "id": "4aac04c9",
   "metadata": {},
   "outputs": [
    {
     "data": {
      "text/plain": [
       "array(['Male', 'Other / Non-Disclosed', 'Female'], dtype=object)"
      ]
     },
     "execution_count": 41,
     "metadata": {},
     "output_type": "execute_result"
    }
   ],
   "source": [
    "gender_list = data_df['Gender'].unique()\n",
    "gender_list"
   ]
  },
  {
   "cell_type": "code",
   "execution_count": 9,
   "id": "c6a920ec",
   "metadata": {},
   "outputs": [
    {
     "data": {
      "text/html": [
       "<div>\n",
       "<style scoped>\n",
       "    .dataframe tbody tr th:only-of-type {\n",
       "        vertical-align: middle;\n",
       "    }\n",
       "\n",
       "    .dataframe tbody tr th {\n",
       "        vertical-align: top;\n",
       "    }\n",
       "\n",
       "    .dataframe thead th {\n",
       "        text-align: right;\n",
       "    }\n",
       "</style>\n",
       "<table border=\"1\" class=\"dataframe\">\n",
       "  <thead>\n",
       "    <tr style=\"text-align: right;\">\n",
       "      <th></th>\n",
       "      <th>Purchase ID</th>\n",
       "      <th>SN</th>\n",
       "      <th>Age</th>\n",
       "      <th>Gender</th>\n",
       "      <th>Item ID</th>\n",
       "      <th>Item Name</th>\n",
       "      <th>Price</th>\n",
       "    </tr>\n",
       "  </thead>\n",
       "  <tbody>\n",
       "    <tr>\n",
       "      <th>467</th>\n",
       "      <td>467</td>\n",
       "      <td>Adairialis76</td>\n",
       "      <td>16</td>\n",
       "      <td>Male</td>\n",
       "      <td>123</td>\n",
       "      <td>Twilight's Carver</td>\n",
       "      <td>2.28</td>\n",
       "    </tr>\n",
       "    <tr>\n",
       "      <th>142</th>\n",
       "      <td>142</td>\n",
       "      <td>Adastirin33</td>\n",
       "      <td>35</td>\n",
       "      <td>Female</td>\n",
       "      <td>175</td>\n",
       "      <td>Woeful Adamantite Claymore</td>\n",
       "      <td>4.48</td>\n",
       "    </tr>\n",
       "    <tr>\n",
       "      <th>388</th>\n",
       "      <td>388</td>\n",
       "      <td>Aeda94</td>\n",
       "      <td>17</td>\n",
       "      <td>Male</td>\n",
       "      <td>128</td>\n",
       "      <td>Blazeguard, Reach of Eternity</td>\n",
       "      <td>4.91</td>\n",
       "    </tr>\n",
       "    <tr>\n",
       "      <th>28</th>\n",
       "      <td>28</td>\n",
       "      <td>Aela59</td>\n",
       "      <td>21</td>\n",
       "      <td>Male</td>\n",
       "      <td>119</td>\n",
       "      <td>Stormbringer, Dark Blade of Ending Misery</td>\n",
       "      <td>4.32</td>\n",
       "    </tr>\n",
       "    <tr>\n",
       "      <th>630</th>\n",
       "      <td>630</td>\n",
       "      <td>Aelaria33</td>\n",
       "      <td>23</td>\n",
       "      <td>Male</td>\n",
       "      <td>171</td>\n",
       "      <td>Scalpel</td>\n",
       "      <td>1.79</td>\n",
       "    </tr>\n",
       "    <tr>\n",
       "      <th>...</th>\n",
       "      <td>...</td>\n",
       "      <td>...</td>\n",
       "      <td>...</td>\n",
       "      <td>...</td>\n",
       "      <td>...</td>\n",
       "      <td>...</td>\n",
       "      <td>...</td>\n",
       "    </tr>\n",
       "    <tr>\n",
       "      <th>125</th>\n",
       "      <td>125</td>\n",
       "      <td>Yathecal82</td>\n",
       "      <td>20</td>\n",
       "      <td>Female</td>\n",
       "      <td>62</td>\n",
       "      <td>Piece Maker</td>\n",
       "      <td>1.87</td>\n",
       "    </tr>\n",
       "    <tr>\n",
       "      <th>595</th>\n",
       "      <td>595</td>\n",
       "      <td>Yathedeu43</td>\n",
       "      <td>22</td>\n",
       "      <td>Male</td>\n",
       "      <td>55</td>\n",
       "      <td>Vindictive Glass Edge</td>\n",
       "      <td>2.27</td>\n",
       "    </tr>\n",
       "    <tr>\n",
       "      <th>572</th>\n",
       "      <td>572</td>\n",
       "      <td>Yoishirrala98</td>\n",
       "      <td>17</td>\n",
       "      <td>Female</td>\n",
       "      <td>145</td>\n",
       "      <td>Fiery Glass Crusader</td>\n",
       "      <td>4.58</td>\n",
       "    </tr>\n",
       "    <tr>\n",
       "      <th>54</th>\n",
       "      <td>54</td>\n",
       "      <td>Zhisrisu83</td>\n",
       "      <td>10</td>\n",
       "      <td>Male</td>\n",
       "      <td>25</td>\n",
       "      <td>Hero Cane</td>\n",
       "      <td>4.35</td>\n",
       "    </tr>\n",
       "    <tr>\n",
       "      <th>560</th>\n",
       "      <td>560</td>\n",
       "      <td>Zontibe81</td>\n",
       "      <td>21</td>\n",
       "      <td>Male</td>\n",
       "      <td>2</td>\n",
       "      <td>Verdict</td>\n",
       "      <td>2.48</td>\n",
       "    </tr>\n",
       "  </tbody>\n",
       "</table>\n",
       "<p>576 rows × 7 columns</p>\n",
       "</div>"
      ],
      "text/plain": [
       "     Purchase ID             SN  Age  Gender  Item ID  \\\n",
       "467          467   Adairialis76   16    Male      123   \n",
       "142          142    Adastirin33   35  Female      175   \n",
       "388          388         Aeda94   17    Male      128   \n",
       "28            28         Aela59   21    Male      119   \n",
       "630          630      Aelaria33   23    Male      171   \n",
       "..           ...            ...  ...     ...      ...   \n",
       "125          125     Yathecal82   20  Female       62   \n",
       "595          595     Yathedeu43   22    Male       55   \n",
       "572          572  Yoishirrala98   17  Female      145   \n",
       "54            54     Zhisrisu83   10    Male       25   \n",
       "560          560      Zontibe81   21    Male        2   \n",
       "\n",
       "                                     Item Name  Price  \n",
       "467                          Twilight's Carver   2.28  \n",
       "142                 Woeful Adamantite Claymore   4.48  \n",
       "388              Blazeguard, Reach of Eternity   4.91  \n",
       "28   Stormbringer, Dark Blade of Ending Misery   4.32  \n",
       "630                                    Scalpel   1.79  \n",
       "..                                         ...    ...  \n",
       "125                                Piece Maker   1.87  \n",
       "595                      Vindictive Glass Edge   2.27  \n",
       "572                       Fiery Glass Crusader   4.58  \n",
       "54                                   Hero Cane   4.35  \n",
       "560                                    Verdict   2.48  \n",
       "\n",
       "[576 rows x 7 columns]"
      ]
     },
     "execution_count": 9,
     "metadata": {},
     "output_type": "execute_result"
    }
   ],
   "source": [
    "#groupby by screen name to get an accurate gender count\n",
    "unique_sn_df = data_df.sort_values('SN', ascending=True)\n",
    "unique_sn_df = unique_sn_df.drop_duplicates(subset='SN', keep='first')\n",
    "unique_sn_df"
   ]
  },
  {
   "cell_type": "code",
   "execution_count": 47,
   "id": "28464524",
   "metadata": {},
   "outputs": [
    {
     "data": {
      "text/html": [
       "<div>\n",
       "<style scoped>\n",
       "    .dataframe tbody tr th:only-of-type {\n",
       "        vertical-align: middle;\n",
       "    }\n",
       "\n",
       "    .dataframe tbody tr th {\n",
       "        vertical-align: top;\n",
       "    }\n",
       "\n",
       "    .dataframe thead th {\n",
       "        text-align: right;\n",
       "    }\n",
       "</style>\n",
       "<table border=\"1\" class=\"dataframe\">\n",
       "  <thead>\n",
       "    <tr style=\"text-align: right;\">\n",
       "      <th></th>\n",
       "      <th>Gender</th>\n",
       "      <th>Percentage of Players</th>\n",
       "    </tr>\n",
       "  </thead>\n",
       "  <tbody>\n",
       "    <tr>\n",
       "      <th>Male</th>\n",
       "      <td>484</td>\n",
       "      <td>84.03%</td>\n",
       "    </tr>\n",
       "    <tr>\n",
       "      <th>Female</th>\n",
       "      <td>81</td>\n",
       "      <td>14.06%</td>\n",
       "    </tr>\n",
       "    <tr>\n",
       "      <th>Other / Non-Disclosed</th>\n",
       "      <td>11</td>\n",
       "      <td>1.91%</td>\n",
       "    </tr>\n",
       "  </tbody>\n",
       "</table>\n",
       "</div>"
      ],
      "text/plain": [
       "                       Gender Percentage of Players\n",
       "Male                      484                84.03%\n",
       "Female                     81                14.06%\n",
       "Other / Non-Disclosed      11                 1.91%"
      ]
     },
     "execution_count": 47,
     "metadata": {},
     "output_type": "execute_result"
    }
   ],
   "source": [
    "#ALL OF THIS COULD HAVE BEEN DONE WITH THE SINGLE LINE BELOW. lIVE AND lEARN YOU DINGUS!\n",
    "#male_count = len(unique_sn_df.loc[unique_sn_df['Gender'] == 'Male',:])\n",
    "#female_count = len(unique_sn_df.loc[unique_sn_df['Gender'] == 'Female',:])\n",
    "#other_count = len(unique_sn_df.loc[unique_sn_df['Gender'] == 'Other / Non-Disclosed',:])\n",
    "\n",
    "gender_demo_totals = unique_sn_df['Gender'].value_counts()\n",
    "gender_demo_percents = gender_demo_totals / player_count\n",
    "\n",
    "gender_demo_df = pd.DataFrame(gender_demo_totals)\n",
    "gender_demo_df['Percentage of Players'] = gender_demo_percents.map(\"{:,.2%}\".format)\n",
    "\n",
    "gender_demo_df"
   ]
  },
  {
   "cell_type": "code",
   "execution_count": 49,
   "id": "d040ef76",
   "metadata": {},
   "outputs": [
    {
     "data": {
      "image/png": "[encoded data removed]",
      "text/plain": [
       "<Figure size 432x288 with 1 Axes>"
      ]
     },
     "metadata": {},
     "output_type": "display_data"
    }
   ],
   "source": [
    "fig1, ax1 = plt.subplots()\n",
    "ax1.pie(gender_demo_totals, labels=gender_list, autopct='%1.1f%%',shadow=True, startangle=90)\n",
    "ax1.axis('equal')  # Equal aspect ratio ensures that pie is drawn as a circle.\n",
    "\n",
    "plt.show()"
   ]
  },
  {
   "cell_type": "markdown",
   "id": "f2afdfed",
   "metadata": {},
   "source": [
    "### Purchasing Analysis (by Gender)"
   ]
  },
  {
   "cell_type": "code",
   "execution_count": 22,
   "id": "35092f40",
   "metadata": {},
   "outputs": [
    {
     "name": "stdout",
     "output_type": "stream",
     "text": [
      "Purchase Count: 113\n",
      "Average Purchase Price: 3.203008849557519\n",
      "Total Purchase Value: 361.94\n",
      "Avg Total Purchase per Person 4.468395061728395\n"
     ]
    }
   ],
   "source": [
    "# create a df with only female players\n",
    "female_df = data_df.loc[data_df['Gender'] == 'Female', :]\n",
    "\n",
    "#create variables for summary\n",
    "f_purchase_count = len(female_df['Purchase ID'].unique())\n",
    "f_avg_price = female_df['Price'].mean()\n",
    "f_total_rev = female_df['Price'].sum()\n",
    "\n",
    "print(f'Purchase Count: {f_purchase_count}')\n",
    "print(f'Average Purchase Price: {f_avg_price}')\n",
    "print(f'Total Purchase Value: {f_total_rev}')\n",
    "print(f'Avg Total Purchase per Person {f_total_rev/female_count}')\n",
    "\n",
    "\n",
    "# Group by Screenname and Average\n",
    "#female_avg_price = female_df[['SN', 'Price']]\n",
    "#female_avg_price = female_avg_price.groupby(['SN']).mean()\n",
    "#female_avg_price = female_avg_price.mean()\n",
    "#female_avg_price"
   ]
  },
  {
   "cell_type": "code",
   "execution_count": 23,
   "id": "f40f3eb1",
   "metadata": {},
   "outputs": [
    {
     "name": "stdout",
     "output_type": "stream",
     "text": [
      "Purchase Count: 652\n",
      "Average Purchase Price: 3.0178527607361953\n",
      "Total Purchase Value: 1967.64\n",
      "Avg Total Purchase per Person 4.065371900826446\n"
     ]
    }
   ],
   "source": [
    "# create a df with only male players\n",
    "male_df = data_df.loc[data_df['Gender'] == 'Male', :]\n",
    "\n",
    "#create variables for summary\n",
    "m_purchase_count = len(male_df['Purchase ID'].unique())\n",
    "m_avg_price = male_df['Price'].mean()\n",
    "m_total_rev = male_df['Price'].sum()\n",
    "\n",
    "print(f'Purchase Count: {m_purchase_count}')\n",
    "print(f'Average Purchase Price: {m_avg_price}')\n",
    "print(f'Total Purchase Value: {m_total_rev}')\n",
    "print(f'Avg Total Purchase per Person {m_total_rev/male_count}')"
   ]
  },
  {
   "cell_type": "code",
   "execution_count": 25,
   "id": "47494d72",
   "metadata": {},
   "outputs": [
    {
     "name": "stdout",
     "output_type": "stream",
     "text": [
      "Purchase Count: 15\n",
      "Average Purchase Price: 3.3460000000000005\n",
      "Total Purchase Value: 50.19\n",
      "Avg Total Purchase per Person 4.5627272727272725\n"
     ]
    }
   ],
   "source": [
    "# create a df with only other players\n",
    "other_df = data_df.loc[data_df['Gender'] == 'Other / Non-Disclosed', :]\n",
    "\n",
    "#create variables for summary\n",
    "o_purchase_count = len(other_df['Purchase ID'].unique())\n",
    "o_avg_price = other_df['Price'].mean()\n",
    "o_total_rev = other_df['Price'].sum()\n",
    "\n",
    "print(f'Purchase Count: {o_purchase_count}')\n",
    "print(f'Average Purchase Price: {o_avg_price}')\n",
    "print(f'Total Purchase Value: {o_total_rev}')\n",
    "print(f'Avg Total Purchase per Person {o_total_rev/other_count}')"
   ]
  },
  {
   "cell_type": "code",
   "execution_count": null,
   "id": "99e5a37d",
   "metadata": {},
   "outputs": [],
   "source": []
  }
 ],
 "metadata": {
  "kernelspec": {
   "display_name": "PythonData",
   "language": "python",
   "name": "pythondata"
  },
  "language_info": {
   "codemirror_mode": {
    "name": "ipython",
    "version": 3
   },
   "file_extension": ".py",
   "mimetype": "text/x-python",
   "name": "python",
   "nbconvert_exporter": "python",
   "pygments_lexer": "ipython3",
   "version": "3.8.8"
  }
 },
 "nbformat": 4,
 "nbformat_minor": 5
}
